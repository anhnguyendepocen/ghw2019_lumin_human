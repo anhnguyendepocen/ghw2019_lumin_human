{
 "cells": [
  {
   "cell_type": "markdown",
   "metadata": {},
   "source": [
    "# Lumin-human project geohackweek 2019\n",
    "## Initial script to extract survey data based on the following study:\n",
    "### Jean et al. Combining satellite imagery and machine learning to predict poverty. Science 19 Aug 2016: Vol. 353, Issue 6301, pp. 790-794. DOI: 10.1126/science.aaf7894 \n",
    "#### Accompanying code from the paper is published here: https://github.com/nealjean/predicting-poverty\n",
    "\n",
    "\n",
    "In this notebook, only parts of what they did in that paper is done: only one type of Survey data is used (LSMS) for one country (Tanzania)\n",
    "\n",
    "written by: sumithra"
   ]
  },
  {
   "cell_type": "code",
   "execution_count": 1,
   "metadata": {},
   "outputs": [],
   "source": [
    "import pandas as pd\n",
    "import numpy as np\n",
    "import geopandas as gpd\n",
    "import shapely\n",
    "import matplotlib.pyplot as plt"
   ]
  },
  {
   "cell_type": "markdown",
   "metadata": {},
   "source": [
    "### Copy of R code from the scripts provided by Jean et al.  (for reference only)\n",
    "### re: reading LSMS data for Tanzania 2012:\n",
    "\n",
    "This is only for Tanzania - they do different things for other country data\n",
    " Tanzania \n",
    "```R\n",
    "tza13.cons <- read.dta('data/input/LSMS/TZA_2012_LSMS_v01_M_STATA_English_labels/ConsumptionNPS3.dta') %$%\n",
    "  data.frame(hhid = y3_hhid, cons = expmR/(365*adulteq))\n",
    "tza13.cons$cons <- tza13.cons$cons*112.69/(585.52*mean(c(130.72,141.01)))\n",
    "tza13.geo <- read.dta13('data/input/LSMS/TZA_2012_LSMS_v01_M_STATA_English_labels/HouseholdGeovars_Y3.dta')\n",
    "tza13.coords <- data.frame(hhid = tza13.geo$y3_hhid, lat = tza13.geo$lat_dd_mod, lon = tza13.geo$lon_dd_mod)\n",
    "tza13.hha <- read.dta('data/input/LSMS/TZA_2012_LSMS_v01_M_STATA_English_labels/HH_SEC_A.dta')\n",
    "tza13.rururb <- data.frame(hhid = tza13.hha$y3_hhid, rururb = tza13.hha$y3_rural, stringsAsFactors = F)\n",
    "tza13.weight <- read.dta('data/input/LSMS/TZA_2012_LSMS_v01_M_STATA_English_labels/HH_SEC_A.dta')[,c('y3_hhid', 'y3_weight')]\n",
    "names(tza13.weight) <- c('hhid', 'weight')\n",
    "tza13.hhi <- read.dta('data/input/LSMS/TZA_2012_LSMS_v01_M_STATA_English_labels/HH_SEC_I.dta')\n",
    "tza13.room <- na.omit(data.frame(hhid = tza13.hhi$y3_hhid, room = tza13.hhi$hh_i07_1))\n",
    "tza13.metal <- data.frame(hhid = tza13.hhi$y3_hhid, metal = tza13.hhi$hh_i09=='METAL SHEETS (GCI)')\n",
    "\n",
    "tza13.vars <- list(tza13.cons, tza13.coords, tza13.rururb, tza13.weight, tza13.room, tza13.metal) %>%\n",
    "  Reduce(function(x, y) merge(x, y, by = 'hhid'), .) %>%\n",
    "  nl(2013)\n",
    "\n",
    "write.table(tza13.vars, 'data/output/LSMS/Tanzania 2013 LSMS (Household).txt', row.names = F)\n",
    "write.table(cluster(tza13.vars), 'data/output/LSMS/Tanzania 2013 LSMS (Cluster).txt', row.names = F\n",
    "```"
   ]
  },
  {
   "cell_type": "markdown",
   "metadata": {},
   "source": [
    "The script from the authors point to a link that is no longer active, the currently available data at https://microdata.worldbank.org/index.php/catalog/2252 is slightly different, but similar data is contained"
   ]
  },
  {
   "cell_type": "markdown",
   "metadata": {},
   "source": [
    "#### First step: data from the collections of files provided in the LSMS survey to save for this work: \n",
    "\n",
    "consumption: ConsumptionNPS3.csv, Householdgeovars: HouseholdGeovars_Y3.csv, HH_SEC_A: HH_SEC_A.csv, HH_SEC_I: HH_SEC_I.csv"
   ]
  },
  {
   "cell_type": "markdown",
   "metadata": {},
   "source": [
    "1: Just to explore - all columns contained in ConsumptionNPS3.csv\n",
    "Columns: \"y3_hhid\",\"foodbev\",\"alctob\",\"foodIN\",\"foodOUT\",\"utilities\",\"hhexpenses\",\"health\",\"transport\",\"communic\",\"recreat\",\"educa\",\"other\",\"expm\",\"fisherb3c3\",\"foodbevR\",\"alctobR\",\"foodINR\",\"foodOUTR\",\"utilitiesR\",\"hhexpensesR\",\"healthR\",\"transportR\",\"communicR\",\"recreatR\",\"educaR\",\"otherR\",\"expmR\",\"hhsize\",\"expmR\",\"urban\",\"region\",\"area\",\"mainland\",\"quarter\""
   ]
  },
  {
   "cell_type": "code",
   "execution_count": 2,
   "metadata": {},
   "outputs": [],
   "source": [
    "## To keep: y3_hhid, expmR, adulteq"
   ]
  },
  {
   "cell_type": "code",
   "execution_count": 3,
   "metadata": {},
   "outputs": [],
   "source": [
    "# Reading in the data into the variable consumption - NOTE path needs to be changed!\n",
    "consumption = pd.read_csv('/Users/sumithra/DSV/MeDESTO/geohackweek2019/TZA_2012_NPS-R3_v01_M_CSV/ConsumptionNPS3.csv')"
   ]
  },
  {
   "cell_type": "code",
   "execution_count": 4,
   "metadata": {},
   "outputs": [
    {
     "data": {
      "text/html": [
       "<div>\n",
       "<style scoped>\n",
       "    .dataframe tbody tr th:only-of-type {\n",
       "        vertical-align: middle;\n",
       "    }\n",
       "\n",
       "    .dataframe tbody tr th {\n",
       "        vertical-align: top;\n",
       "    }\n",
       "\n",
       "    .dataframe thead th {\n",
       "        text-align: right;\n",
       "    }\n",
       "</style>\n",
       "<table border=\"1\" class=\"dataframe\">\n",
       "  <thead>\n",
       "    <tr style=\"text-align: right;\">\n",
       "      <th></th>\n",
       "      <th>y3_hhid</th>\n",
       "      <th>foodbev</th>\n",
       "      <th>alctob</th>\n",
       "      <th>foodIN</th>\n",
       "      <th>foodOUT</th>\n",
       "      <th>utilities</th>\n",
       "      <th>hhexpenses</th>\n",
       "      <th>health</th>\n",
       "      <th>transport</th>\n",
       "      <th>communic</th>\n",
       "      <th>...</th>\n",
       "      <th>educaR</th>\n",
       "      <th>otherR</th>\n",
       "      <th>expmR</th>\n",
       "      <th>hhsize</th>\n",
       "      <th>adulteq</th>\n",
       "      <th>urban</th>\n",
       "      <th>region</th>\n",
       "      <th>area</th>\n",
       "      <th>mainland</th>\n",
       "      <th>quarter</th>\n",
       "    </tr>\n",
       "  </thead>\n",
       "  <tbody>\n",
       "    <tr>\n",
       "      <td>0</td>\n",
       "      <td>0001-001</td>\n",
       "      <td>878800.0</td>\n",
       "      <td>0.0</td>\n",
       "      <td>878800.0</td>\n",
       "      <td>0</td>\n",
       "      <td>59200</td>\n",
       "      <td>123200</td>\n",
       "      <td>656500</td>\n",
       "      <td>0</td>\n",
       "      <td>120000</td>\n",
       "      <td>...</td>\n",
       "      <td>0.000000</td>\n",
       "      <td>27853.652344</td>\n",
       "      <td>1.966742e+06</td>\n",
       "      <td>4</td>\n",
       "      <td>3.60</td>\n",
       "      <td>1</td>\n",
       "      <td>1</td>\n",
       "      <td>3</td>\n",
       "      <td>1</td>\n",
       "      <td>1</td>\n",
       "    </tr>\n",
       "    <tr>\n",
       "      <td>1</td>\n",
       "      <td>0002-001</td>\n",
       "      <td>475800.0</td>\n",
       "      <td>0.0</td>\n",
       "      <td>444600.0</td>\n",
       "      <td>31200</td>\n",
       "      <td>31800</td>\n",
       "      <td>3600</td>\n",
       "      <td>0</td>\n",
       "      <td>0</td>\n",
       "      <td>0</td>\n",
       "      <td>...</td>\n",
       "      <td>0.000000</td>\n",
       "      <td>24266.439453</td>\n",
       "      <td>5.636144e+05</td>\n",
       "      <td>4</td>\n",
       "      <td>2.84</td>\n",
       "      <td>1</td>\n",
       "      <td>1</td>\n",
       "      <td>3</td>\n",
       "      <td>1</td>\n",
       "      <td>1</td>\n",
       "    </tr>\n",
       "    <tr>\n",
       "      <td>2</td>\n",
       "      <td>0003-001</td>\n",
       "      <td>3536000.0</td>\n",
       "      <td>93600.0</td>\n",
       "      <td>3265600.0</td>\n",
       "      <td>364000</td>\n",
       "      <td>257200</td>\n",
       "      <td>180000</td>\n",
       "      <td>0</td>\n",
       "      <td>336000</td>\n",
       "      <td>180000</td>\n",
       "      <td>...</td>\n",
       "      <td>214177.703125</td>\n",
       "      <td>430465.531250</td>\n",
       "      <td>5.479784e+06</td>\n",
       "      <td>6</td>\n",
       "      <td>5.28</td>\n",
       "      <td>1</td>\n",
       "      <td>1</td>\n",
       "      <td>3</td>\n",
       "      <td>1</td>\n",
       "      <td>1</td>\n",
       "    </tr>\n",
       "    <tr>\n",
       "      <td>3</td>\n",
       "      <td>0003-010</td>\n",
       "      <td>3445000.0</td>\n",
       "      <td>0.0</td>\n",
       "      <td>2472600.0</td>\n",
       "      <td>972400</td>\n",
       "      <td>602000</td>\n",
       "      <td>268000</td>\n",
       "      <td>303000</td>\n",
       "      <td>322400</td>\n",
       "      <td>300000</td>\n",
       "      <td>...</td>\n",
       "      <td>0.000000</td>\n",
       "      <td>193136.468750</td>\n",
       "      <td>4.906560e+06</td>\n",
       "      <td>4</td>\n",
       "      <td>3.24</td>\n",
       "      <td>2</td>\n",
       "      <td>7</td>\n",
       "      <td>1</td>\n",
       "      <td>1</td>\n",
       "      <td>1</td>\n",
       "    </tr>\n",
       "    <tr>\n",
       "      <td>4</td>\n",
       "      <td>0005-001</td>\n",
       "      <td>2522375.5</td>\n",
       "      <td>0.0</td>\n",
       "      <td>2418375.5</td>\n",
       "      <td>104000</td>\n",
       "      <td>96600</td>\n",
       "      <td>102800</td>\n",
       "      <td>67600</td>\n",
       "      <td>300000</td>\n",
       "      <td>57600</td>\n",
       "      <td>...</td>\n",
       "      <td>9495.563477</td>\n",
       "      <td>107616.382812</td>\n",
       "      <td>3.437368e+06</td>\n",
       "      <td>5</td>\n",
       "      <td>3.60</td>\n",
       "      <td>1</td>\n",
       "      <td>1</td>\n",
       "      <td>3</td>\n",
       "      <td>1</td>\n",
       "      <td>1</td>\n",
       "    </tr>\n",
       "  </tbody>\n",
       "</table>\n",
       "<p>5 rows × 35 columns</p>\n",
       "</div>"
      ],
      "text/plain": [
       "    y3_hhid    foodbev   alctob     foodIN  foodOUT  utilities  hhexpenses  \\\n",
       "0  0001-001   878800.0      0.0   878800.0        0      59200      123200   \n",
       "1  0002-001   475800.0      0.0   444600.0    31200      31800        3600   \n",
       "2  0003-001  3536000.0  93600.0  3265600.0   364000     257200      180000   \n",
       "3  0003-010  3445000.0      0.0  2472600.0   972400     602000      268000   \n",
       "4  0005-001  2522375.5      0.0  2418375.5   104000      96600      102800   \n",
       "\n",
       "   health  transport  communic  ...         educaR         otherR  \\\n",
       "0  656500          0    120000  ...       0.000000   27853.652344   \n",
       "1       0          0         0  ...       0.000000   24266.439453   \n",
       "2       0     336000    180000  ...  214177.703125  430465.531250   \n",
       "3  303000     322400    300000  ...       0.000000  193136.468750   \n",
       "4   67600     300000     57600  ...    9495.563477  107616.382812   \n",
       "\n",
       "          expmR  hhsize  adulteq  urban  region  area  mainland  quarter  \n",
       "0  1.966742e+06       4     3.60      1       1     3         1        1  \n",
       "1  5.636144e+05       4     2.84      1       1     3         1        1  \n",
       "2  5.479784e+06       6     5.28      1       1     3         1        1  \n",
       "3  4.906560e+06       4     3.24      2       7     1         1        1  \n",
       "4  3.437368e+06       5     3.60      1       1     3         1        1  \n",
       "\n",
       "[5 rows x 35 columns]"
      ]
     },
     "execution_count": 4,
     "metadata": {},
     "output_type": "execute_result"
    }
   ],
   "source": [
    "## Just a look at what's in there:\n",
    "consumption.head()"
   ]
  },
  {
   "cell_type": "code",
   "execution_count": 5,
   "metadata": {},
   "outputs": [],
   "source": [
    "## We want to only save a few columns, passing these into the variable df\n",
    "df = consumption[['y3_hhid', 'expmR', 'adulteq']]"
   ]
  },
  {
   "cell_type": "code",
   "execution_count": 6,
   "metadata": {},
   "outputs": [],
   "source": [
    "## Function based on what they did in their script - average yearly consumption (?)\n",
    "def to_cons(row):\n",
    "    return row['expmR']/365*row['adulteq']\n",
    "    "
   ]
  },
  {
   "cell_type": "code",
   "execution_count": 7,
   "metadata": {},
   "outputs": [
    {
     "data": {
      "text/html": [
       "<div>\n",
       "<style scoped>\n",
       "    .dataframe tbody tr th:only-of-type {\n",
       "        vertical-align: middle;\n",
       "    }\n",
       "\n",
       "    .dataframe tbody tr th {\n",
       "        vertical-align: top;\n",
       "    }\n",
       "\n",
       "    .dataframe thead th {\n",
       "        text-align: right;\n",
       "    }\n",
       "</style>\n",
       "<table border=\"1\" class=\"dataframe\">\n",
       "  <thead>\n",
       "    <tr style=\"text-align: right;\">\n",
       "      <th></th>\n",
       "      <th>y3_hhid</th>\n",
       "      <th>expmR</th>\n",
       "      <th>adulteq</th>\n",
       "    </tr>\n",
       "  </thead>\n",
       "  <tbody>\n",
       "    <tr>\n",
       "      <td>0</td>\n",
       "      <td>0001-001</td>\n",
       "      <td>1.966742e+06</td>\n",
       "      <td>3.60</td>\n",
       "    </tr>\n",
       "    <tr>\n",
       "      <td>1</td>\n",
       "      <td>0002-001</td>\n",
       "      <td>5.636144e+05</td>\n",
       "      <td>2.84</td>\n",
       "    </tr>\n",
       "    <tr>\n",
       "      <td>2</td>\n",
       "      <td>0003-001</td>\n",
       "      <td>5.479784e+06</td>\n",
       "      <td>5.28</td>\n",
       "    </tr>\n",
       "    <tr>\n",
       "      <td>3</td>\n",
       "      <td>0003-010</td>\n",
       "      <td>4.906560e+06</td>\n",
       "      <td>3.24</td>\n",
       "    </tr>\n",
       "    <tr>\n",
       "      <td>4</td>\n",
       "      <td>0005-001</td>\n",
       "      <td>3.437368e+06</td>\n",
       "      <td>3.60</td>\n",
       "    </tr>\n",
       "  </tbody>\n",
       "</table>\n",
       "</div>"
      ],
      "text/plain": [
       "    y3_hhid         expmR  adulteq\n",
       "0  0001-001  1.966742e+06     3.60\n",
       "1  0002-001  5.636144e+05     2.84\n",
       "2  0003-001  5.479784e+06     5.28\n",
       "3  0003-010  4.906560e+06     3.24\n",
       "4  0005-001  3.437368e+06     3.60"
      ]
     },
     "execution_count": 7,
     "metadata": {},
     "output_type": "execute_result"
    }
   ],
   "source": [
    "## Just a quick look at the new dataframe\n",
    "df.head()"
   ]
  },
  {
   "cell_type": "code",
   "execution_count": 8,
   "metadata": {},
   "outputs": [
    {
     "name": "stderr",
     "output_type": "stream",
     "text": [
      "/Users/sumithra/.local/lib/python3.6/site-packages/ipykernel_launcher.py:2: SettingWithCopyWarning: \n",
      "A value is trying to be set on a copy of a slice from a DataFrame.\n",
      "Try using .loc[row_indexer,col_indexer] = value instead\n",
      "\n",
      "See the caveats in the documentation: http://pandas.pydata.org/pandas-docs/stable/user_guide/indexing.html#returning-a-view-versus-a-copy\n",
      "  \n"
     ]
    }
   ],
   "source": [
    "## Applying the function 'to_cons' and saving in a new column 'cons'\n",
    "df['cons'] = df.apply(to_cons, axis=1)"
   ]
  },
  {
   "cell_type": "code",
   "execution_count": 9,
   "metadata": {},
   "outputs": [],
   "source": [
    "## Second calculation from the provided script - this probably relates to normalising currency (?)\n",
    "def calc_converted_values(row):\n",
    "    return row*112.69/(585.52*np.mean([130.72,141.01]))"
   ]
  },
  {
   "cell_type": "code",
   "execution_count": 10,
   "metadata": {},
   "outputs": [
    {
     "name": "stderr",
     "output_type": "stream",
     "text": [
      "/Users/sumithra/.local/lib/python3.6/site-packages/ipykernel_launcher.py:2: SettingWithCopyWarning: \n",
      "A value is trying to be set on a copy of a slice from a DataFrame.\n",
      "Try using .loc[row_indexer,col_indexer] = value instead\n",
      "\n",
      "See the caveats in the documentation: http://pandas.pydata.org/pandas-docs/stable/user_guide/indexing.html#returning-a-view-versus-a-copy\n",
      "  \n"
     ]
    }
   ],
   "source": [
    "## Applying the function and saving in a new column value 'cons2'\n",
    "df['cons2'] = df['cons'].apply(calc_converted_values)"
   ]
  },
  {
   "cell_type": "code",
   "execution_count": 11,
   "metadata": {},
   "outputs": [
    {
     "data": {
      "text/html": [
       "<div>\n",
       "<style scoped>\n",
       "    .dataframe tbody tr th:only-of-type {\n",
       "        vertical-align: middle;\n",
       "    }\n",
       "\n",
       "    .dataframe tbody tr th {\n",
       "        vertical-align: top;\n",
       "    }\n",
       "\n",
       "    .dataframe thead th {\n",
       "        text-align: right;\n",
       "    }\n",
       "</style>\n",
       "<table border=\"1\" class=\"dataframe\">\n",
       "  <thead>\n",
       "    <tr style=\"text-align: right;\">\n",
       "      <th></th>\n",
       "      <th>y3_hhid</th>\n",
       "      <th>expmR</th>\n",
       "      <th>adulteq</th>\n",
       "      <th>cons</th>\n",
       "      <th>cons2</th>\n",
       "    </tr>\n",
       "  </thead>\n",
       "  <tbody>\n",
       "    <tr>\n",
       "      <td>0</td>\n",
       "      <td>0001-001</td>\n",
       "      <td>1.966742e+06</td>\n",
       "      <td>3.60</td>\n",
       "      <td>19398.004649</td>\n",
       "      <td>27.478506</td>\n",
       "    </tr>\n",
       "    <tr>\n",
       "      <td>1</td>\n",
       "      <td>0002-001</td>\n",
       "      <td>5.636144e+05</td>\n",
       "      <td>2.84</td>\n",
       "      <td>4385.383574</td>\n",
       "      <td>6.212174</td>\n",
       "    </tr>\n",
       "    <tr>\n",
       "      <td>2</td>\n",
       "      <td>0003-001</td>\n",
       "      <td>5.479784e+06</td>\n",
       "      <td>5.28</td>\n",
       "      <td>79269.204630</td>\n",
       "      <td>112.289863</td>\n",
       "    </tr>\n",
       "    <tr>\n",
       "      <td>3</td>\n",
       "      <td>0003-010</td>\n",
       "      <td>4.906560e+06</td>\n",
       "      <td>3.24</td>\n",
       "      <td>43554.125810</td>\n",
       "      <td>61.697186</td>\n",
       "    </tr>\n",
       "    <tr>\n",
       "      <td>4</td>\n",
       "      <td>0005-001</td>\n",
       "      <td>3.437368e+06</td>\n",
       "      <td>3.60</td>\n",
       "      <td>33902.807615</td>\n",
       "      <td>48.025480</td>\n",
       "    </tr>\n",
       "  </tbody>\n",
       "</table>\n",
       "</div>"
      ],
      "text/plain": [
       "    y3_hhid         expmR  adulteq          cons       cons2\n",
       "0  0001-001  1.966742e+06     3.60  19398.004649   27.478506\n",
       "1  0002-001  5.636144e+05     2.84   4385.383574    6.212174\n",
       "2  0003-001  5.479784e+06     5.28  79269.204630  112.289863\n",
       "3  0003-010  4.906560e+06     3.24  43554.125810   61.697186\n",
       "4  0005-001  3.437368e+06     3.60  33902.807615   48.025480"
      ]
     },
     "execution_count": 11,
     "metadata": {},
     "output_type": "execute_result"
    }
   ],
   "source": [
    "## Now we have these two new columns in our dataframe\n",
    "df.head()"
   ]
  },
  {
   "cell_type": "code",
   "execution_count": 12,
   "metadata": {},
   "outputs": [],
   "source": [
    "## Next step is to load the geo variables from the survey data\n",
    "#tza13.geo <- read.dta13('data/input/LSMS/TZA_2012_LSMS_v01_M_STATA_English_labels/HouseholdGeovars_Y3.dta')\n",
    "geo = pd.read_csv('/Users/sumithra/DSV/MeDESTO/geohackweek2019/TZA_2012_NPS-R3_v01_M_CSV/HouseholdGeovars_Y3.csv')"
   ]
  },
  {
   "cell_type": "code",
   "execution_count": 13,
   "metadata": {},
   "outputs": [],
   "source": [
    "## We only need to save id, latitude and longitude values\n",
    "dfgeo = geo[['y3_hhid', 'lat_dd_mod', 'lon_dd_mod']]"
   ]
  },
  {
   "cell_type": "code",
   "execution_count": 14,
   "metadata": {},
   "outputs": [
    {
     "data": {
      "text/html": [
       "<div>\n",
       "<style scoped>\n",
       "    .dataframe tbody tr th:only-of-type {\n",
       "        vertical-align: middle;\n",
       "    }\n",
       "\n",
       "    .dataframe tbody tr th {\n",
       "        vertical-align: top;\n",
       "    }\n",
       "\n",
       "    .dataframe thead th {\n",
       "        text-align: right;\n",
       "    }\n",
       "</style>\n",
       "<table border=\"1\" class=\"dataframe\">\n",
       "  <thead>\n",
       "    <tr style=\"text-align: right;\">\n",
       "      <th></th>\n",
       "      <th>y3_hhid</th>\n",
       "      <th>lat_dd_mod</th>\n",
       "      <th>lon_dd_mod</th>\n",
       "    </tr>\n",
       "  </thead>\n",
       "  <tbody>\n",
       "    <tr>\n",
       "      <td>0</td>\n",
       "      <td>0001-001</td>\n",
       "      <td>-5.085751</td>\n",
       "      <td>35.854389</td>\n",
       "    </tr>\n",
       "    <tr>\n",
       "      <td>1</td>\n",
       "      <td>0002-001</td>\n",
       "      <td>-5.085751</td>\n",
       "      <td>35.854389</td>\n",
       "    </tr>\n",
       "    <tr>\n",
       "      <td>2</td>\n",
       "      <td>0003-001</td>\n",
       "      <td>-5.085751</td>\n",
       "      <td>35.854389</td>\n",
       "    </tr>\n",
       "    <tr>\n",
       "      <td>3</td>\n",
       "      <td>0003-010</td>\n",
       "      <td>-6.860888</td>\n",
       "      <td>39.251984</td>\n",
       "    </tr>\n",
       "    <tr>\n",
       "      <td>4</td>\n",
       "      <td>0005-001</td>\n",
       "      <td>-5.085751</td>\n",
       "      <td>35.854389</td>\n",
       "    </tr>\n",
       "  </tbody>\n",
       "</table>\n",
       "</div>"
      ],
      "text/plain": [
       "    y3_hhid  lat_dd_mod  lon_dd_mod\n",
       "0  0001-001   -5.085751   35.854389\n",
       "1  0002-001   -5.085751   35.854389\n",
       "2  0003-001   -5.085751   35.854389\n",
       "3  0003-010   -6.860888   39.251984\n",
       "4  0005-001   -5.085751   35.854389"
      ]
     },
     "execution_count": 14,
     "metadata": {},
     "output_type": "execute_result"
    }
   ],
   "source": [
    "## Quick look at the dataframe with geo variables (dfgeo)\n",
    "dfgeo.head()"
   ]
  },
  {
   "cell_type": "code",
   "execution_count": 15,
   "metadata": {},
   "outputs": [],
   "source": [
    "## Let's now merge the two dataframes so that we can get geo locations for the consumption values \n",
    "# - saving in a new dataframe: df_merged\n",
    "df_merged = pd.merge(df, dfgeo, on='y3_hhid')"
   ]
  },
  {
   "cell_type": "code",
   "execution_count": 16,
   "metadata": {},
   "outputs": [
    {
     "data": {
      "text/plain": [
       "4862"
      ]
     },
     "execution_count": 16,
     "metadata": {},
     "output_type": "execute_result"
    }
   ],
   "source": [
    "## How many individual values do we have?\n",
    "len(df_merged)"
   ]
  },
  {
   "cell_type": "code",
   "execution_count": 17,
   "metadata": {},
   "outputs": [
    {
     "data": {
      "text/html": [
       "<div>\n",
       "<style scoped>\n",
       "    .dataframe tbody tr th:only-of-type {\n",
       "        vertical-align: middle;\n",
       "    }\n",
       "\n",
       "    .dataframe tbody tr th {\n",
       "        vertical-align: top;\n",
       "    }\n",
       "\n",
       "    .dataframe thead th {\n",
       "        text-align: right;\n",
       "    }\n",
       "</style>\n",
       "<table border=\"1\" class=\"dataframe\">\n",
       "  <thead>\n",
       "    <tr style=\"text-align: right;\">\n",
       "      <th></th>\n",
       "      <th>y3_hhid</th>\n",
       "      <th>expmR</th>\n",
       "      <th>adulteq</th>\n",
       "      <th>cons</th>\n",
       "      <th>cons2</th>\n",
       "      <th>lat_dd_mod</th>\n",
       "      <th>lon_dd_mod</th>\n",
       "    </tr>\n",
       "  </thead>\n",
       "  <tbody>\n",
       "    <tr>\n",
       "      <td>0</td>\n",
       "      <td>0001-001</td>\n",
       "      <td>1.966742e+06</td>\n",
       "      <td>3.60</td>\n",
       "      <td>19398.004649</td>\n",
       "      <td>27.478506</td>\n",
       "      <td>-5.085751</td>\n",
       "      <td>35.854389</td>\n",
       "    </tr>\n",
       "    <tr>\n",
       "      <td>1</td>\n",
       "      <td>0002-001</td>\n",
       "      <td>5.636144e+05</td>\n",
       "      <td>2.84</td>\n",
       "      <td>4385.383574</td>\n",
       "      <td>6.212174</td>\n",
       "      <td>-5.085751</td>\n",
       "      <td>35.854389</td>\n",
       "    </tr>\n",
       "    <tr>\n",
       "      <td>2</td>\n",
       "      <td>0003-001</td>\n",
       "      <td>5.479784e+06</td>\n",
       "      <td>5.28</td>\n",
       "      <td>79269.204630</td>\n",
       "      <td>112.289863</td>\n",
       "      <td>-5.085751</td>\n",
       "      <td>35.854389</td>\n",
       "    </tr>\n",
       "    <tr>\n",
       "      <td>3</td>\n",
       "      <td>0003-010</td>\n",
       "      <td>4.906560e+06</td>\n",
       "      <td>3.24</td>\n",
       "      <td>43554.125810</td>\n",
       "      <td>61.697186</td>\n",
       "      <td>-6.860888</td>\n",
       "      <td>39.251984</td>\n",
       "    </tr>\n",
       "    <tr>\n",
       "      <td>4</td>\n",
       "      <td>0005-001</td>\n",
       "      <td>3.437368e+06</td>\n",
       "      <td>3.60</td>\n",
       "      <td>33902.807615</td>\n",
       "      <td>48.025480</td>\n",
       "      <td>-5.085751</td>\n",
       "      <td>35.854389</td>\n",
       "    </tr>\n",
       "  </tbody>\n",
       "</table>\n",
       "</div>"
      ],
      "text/plain": [
       "    y3_hhid         expmR  adulteq          cons       cons2  lat_dd_mod  \\\n",
       "0  0001-001  1.966742e+06     3.60  19398.004649   27.478506   -5.085751   \n",
       "1  0002-001  5.636144e+05     2.84   4385.383574    6.212174   -5.085751   \n",
       "2  0003-001  5.479784e+06     5.28  79269.204630  112.289863   -5.085751   \n",
       "3  0003-010  4.906560e+06     3.24  43554.125810   61.697186   -6.860888   \n",
       "4  0005-001  3.437368e+06     3.60  33902.807615   48.025480   -5.085751   \n",
       "\n",
       "   lon_dd_mod  \n",
       "0   35.854389  \n",
       "1   35.854389  \n",
       "2   35.854389  \n",
       "3   39.251984  \n",
       "4   35.854389  "
      ]
     },
     "execution_count": 17,
     "metadata": {},
     "output_type": "execute_result"
    }
   ],
   "source": [
    "df_merged.head()"
   ]
  },
  {
   "cell_type": "markdown",
   "metadata": {},
   "source": [
    "#### In the paper, they cluster household/consumption values to \n",
    "##### Cluster function from the paper - for reference only\n",
    "\n",
    "```R\n",
    "# Aggregate household-level data to cluster level\n",
    "cluster <- function(df, dhs = F){\n",
    "  # Record how many households comprise each cluster\n",
    "  for (i in 1:nrow(df)){\n",
    "    sub <- subset(df, lat == df$lat[i] & lon == df$lon[i])\n",
    "    df$n[i] <- nrow(sub)\n",
    "  }\n",
    "  # Clustering for LSMS survey data\n",
    "  df <- if (dhs == FALSE)\n",
    "    ddply(df, .(lat, lon), summarise,\n",
    "          cons = mean(cons),\n",
    "          nl = mean(nl),\n",
    "          n = mean(n),\n",
    "          sample = min(sample))\n",
    "  # Clustering for DHS survey data\n",
    "  else ddply(df, .(lat, lon), summarise,\n",
    "             wealthscore = mean(wealthscore),\n",
    "             nl = mean(nl),\n",
    "             n = mean(n),\n",
    "             sample = min(sample))\n",
    "  return(df)\n",
    "}\n",
    "```"
   ]
  },
  {
   "cell_type": "code",
   "execution_count": 18,
   "metadata": {},
   "outputs": [
    {
     "data": {
      "text/plain": [
       "lat_dd_mod  lon_dd_mod\n",
       "-11.497012  35.607626      42.264669\n",
       "-11.315454  34.786297      33.312532\n",
       "-11.170319  34.996472      23.262399\n",
       "-11.108790  34.642166      48.164958\n",
       "-11.072451  37.319251      24.731698\n",
       "                             ...    \n",
       "-1.335650   31.822935      88.142518\n",
       "-1.324776   34.354972     151.964764\n",
       "-1.213422   31.665497      68.447434\n",
       "-1.213010   31.463951      38.937077\n",
       "-1.058783   30.697008     114.735566\n",
       "Name: cons2, Length: 409, dtype: float64"
      ]
     },
     "execution_count": 18,
     "metadata": {},
     "output_type": "execute_result"
    }
   ],
   "source": [
    "## Replication of clustering:\n",
    "\n",
    "## First filter out any rows where the latitude + longitude only occurs once (i.e. only one household):\n",
    "filtered = df_merged.groupby(['lat_dd_mod', 'lon_dd_mod']).filter(lambda x: len(x) > 1)\n",
    "\n",
    "## Then calculate the mean cons2 for each cluster of lat+lon households\n",
    "filtered.groupby(['lat_dd_mod', 'lon_dd_mod'])['cons2'].mean()"
   ]
  },
  {
   "cell_type": "code",
   "execution_count": 19,
   "metadata": {},
   "outputs": [
    {
     "data": {
      "text/plain": [
       "dtype('float64')"
      ]
     },
     "execution_count": 19,
     "metadata": {},
     "output_type": "execute_result"
    }
   ],
   "source": [
    "df_merged['lon_dd_mod'].dtype"
   ]
  },
  {
   "cell_type": "markdown",
   "metadata": {},
   "source": [
    "### Some initial experiments in plotting these points on a map - to be continued\n",
    "\n",
    "Questions:\n",
    "- Why are the points slightly off on the map?\n",
    "- How to add legend (legend = True does not seem to work?)?\n",
    "- Other shape files for Tanzania?"
   ]
  },
  {
   "cell_type": "code",
   "execution_count": 58,
   "metadata": {},
   "outputs": [],
   "source": [
    "## Converting lat+lon to points\n",
    "geometry = [shapely.geometry.Point(xy) for xy in zip(df_merged['lon_dd_mod'], df_merged['lat_dd_mod'])]"
   ]
  },
  {
   "cell_type": "code",
   "execution_count": 59,
   "metadata": {},
   "outputs": [
    {
     "data": {
      "text/plain": [
       "[<shapely.geometry.point.Point at 0x11682e748>,\n",
       " <shapely.geometry.point.Point at 0x1164799b0>,\n",
       " <shapely.geometry.point.Point at 0x11ad173c8>]"
      ]
     },
     "execution_count": 59,
     "metadata": {},
     "output_type": "execute_result"
    }
   ],
   "source": [
    "geometry[:3]"
   ]
  },
  {
   "cell_type": "code",
   "execution_count": 60,
   "metadata": {},
   "outputs": [],
   "source": [
    "## creating a geopandas dataframe with the points on all the data (i.e. no clusters)\n",
    "geo_df = gpd.GeoDataFrame(df_merged, geometry=geometry)\n",
    "geo_df.crs = {'init' :'epsg:4326'}"
   ]
  },
  {
   "cell_type": "code",
   "execution_count": 61,
   "metadata": {},
   "outputs": [
    {
     "data": {
      "text/html": [
       "<div>\n",
       "<style scoped>\n",
       "    .dataframe tbody tr th:only-of-type {\n",
       "        vertical-align: middle;\n",
       "    }\n",
       "\n",
       "    .dataframe tbody tr th {\n",
       "        vertical-align: top;\n",
       "    }\n",
       "\n",
       "    .dataframe thead th {\n",
       "        text-align: right;\n",
       "    }\n",
       "</style>\n",
       "<table border=\"1\" class=\"dataframe\">\n",
       "  <thead>\n",
       "    <tr style=\"text-align: right;\">\n",
       "      <th></th>\n",
       "      <th>y3_hhid</th>\n",
       "      <th>expmR</th>\n",
       "      <th>adulteq</th>\n",
       "      <th>cons</th>\n",
       "      <th>cons2</th>\n",
       "      <th>lat_dd_mod</th>\n",
       "      <th>lon_dd_mod</th>\n",
       "      <th>geometry</th>\n",
       "    </tr>\n",
       "  </thead>\n",
       "  <tbody>\n",
       "    <tr>\n",
       "      <td>0</td>\n",
       "      <td>0001-001</td>\n",
       "      <td>1.966742e+06</td>\n",
       "      <td>3.60</td>\n",
       "      <td>19398.004649</td>\n",
       "      <td>27.478506</td>\n",
       "      <td>-5.085751</td>\n",
       "      <td>35.854389</td>\n",
       "      <td>POINT (35.8543891943 -5.08575059837)</td>\n",
       "    </tr>\n",
       "    <tr>\n",
       "      <td>1</td>\n",
       "      <td>0002-001</td>\n",
       "      <td>5.636144e+05</td>\n",
       "      <td>2.84</td>\n",
       "      <td>4385.383574</td>\n",
       "      <td>6.212174</td>\n",
       "      <td>-5.085751</td>\n",
       "      <td>35.854389</td>\n",
       "      <td>POINT (35.8543891943 -5.08575059837)</td>\n",
       "    </tr>\n",
       "    <tr>\n",
       "      <td>2</td>\n",
       "      <td>0003-001</td>\n",
       "      <td>5.479784e+06</td>\n",
       "      <td>5.28</td>\n",
       "      <td>79269.204630</td>\n",
       "      <td>112.289863</td>\n",
       "      <td>-5.085751</td>\n",
       "      <td>35.854389</td>\n",
       "      <td>POINT (35.8543891943 -5.08575059837)</td>\n",
       "    </tr>\n",
       "    <tr>\n",
       "      <td>3</td>\n",
       "      <td>0003-010</td>\n",
       "      <td>4.906560e+06</td>\n",
       "      <td>3.24</td>\n",
       "      <td>43554.125810</td>\n",
       "      <td>61.697186</td>\n",
       "      <td>-6.860888</td>\n",
       "      <td>39.251984</td>\n",
       "      <td>POINT (39.2519840813 -6.86088773309)</td>\n",
       "    </tr>\n",
       "    <tr>\n",
       "      <td>4</td>\n",
       "      <td>0005-001</td>\n",
       "      <td>3.437368e+06</td>\n",
       "      <td>3.60</td>\n",
       "      <td>33902.807615</td>\n",
       "      <td>48.025480</td>\n",
       "      <td>-5.085751</td>\n",
       "      <td>35.854389</td>\n",
       "      <td>POINT (35.8543891943 -5.08575059837)</td>\n",
       "    </tr>\n",
       "  </tbody>\n",
       "</table>\n",
       "</div>"
      ],
      "text/plain": [
       "    y3_hhid         expmR  adulteq          cons       cons2  lat_dd_mod  \\\n",
       "0  0001-001  1.966742e+06     3.60  19398.004649   27.478506   -5.085751   \n",
       "1  0002-001  5.636144e+05     2.84   4385.383574    6.212174   -5.085751   \n",
       "2  0003-001  5.479784e+06     5.28  79269.204630  112.289863   -5.085751   \n",
       "3  0003-010  4.906560e+06     3.24  43554.125810   61.697186   -6.860888   \n",
       "4  0005-001  3.437368e+06     3.60  33902.807615   48.025480   -5.085751   \n",
       "\n",
       "   lon_dd_mod                              geometry  \n",
       "0   35.854389  POINT (35.8543891943 -5.08575059837)  \n",
       "1   35.854389  POINT (35.8543891943 -5.08575059837)  \n",
       "2   35.854389  POINT (35.8543891943 -5.08575059837)  \n",
       "3   39.251984  POINT (39.2519840813 -6.86088773309)  \n",
       "4   35.854389  POINT (35.8543891943 -5.08575059837)  "
      ]
     },
     "execution_count": 61,
     "metadata": {},
     "output_type": "execute_result"
    }
   ],
   "source": [
    "geo_df.head()"
   ]
  },
  {
   "cell_type": "code",
   "execution_count": 62,
   "metadata": {},
   "outputs": [
    {
     "data": {
      "image/png": "[encoded data removed]",
      "text/plain": [
       "<Figure size 432x288 with 2 Axes>"
      ]
     },
     "metadata": {
      "needs_background": "light"
     },
     "output_type": "display_data"
    }
   ],
   "source": [
    "fig, ax = plt.subplots(1, 1)\n",
    "geo_df.plot(column='cons2', ax=ax, legend=True);"
   ]
  },
  {
   "cell_type": "code",
   "execution_count": 63,
   "metadata": {},
   "outputs": [],
   "source": [
    "## Same thing with the filtered data\n",
    "geometry_filtered = [shapely.geometry.Point(xy) for xy in zip(filtered['lon_dd_mod'], filtered['lat_dd_mod'])]"
   ]
  },
  {
   "cell_type": "code",
   "execution_count": 64,
   "metadata": {},
   "outputs": [],
   "source": [
    "geo_df_filtered = gpd.GeoDataFrame(filtered, geometry=geometry_filtered)\n",
    "geo_df_filtered.crs = {'init' :'epsg:4326'}"
   ]
  },
  {
   "cell_type": "code",
   "execution_count": 65,
   "metadata": {},
   "outputs": [
    {
     "data": {
      "image/png": "[encoded data removed]",
      "text/plain": [
       "<Figure size 432x288 with 2 Axes>"
      ]
     },
     "metadata": {
      "needs_background": "light"
     },
     "output_type": "display_data"
    }
   ],
   "source": [
    "fig, ax = plt.subplots(1, 1)\n",
    "geo_df_filtered.plot(column='cons2', ax=ax, legend=True, figsize=(10, 10));"
   ]
  },
  {
   "cell_type": "code",
   "execution_count": 66,
   "metadata": {},
   "outputs": [],
   "source": [
    "## Reading in world map from tutorial material\n",
    "world = gpd.read_file(gpd.datasets.get_path('naturalearth_lowres'))\n",
    "## Keeping only Tanzania\n",
    "tan = world[world['name']=='Tanzania']"
   ]
  },
  {
   "cell_type": "code",
   "execution_count": 67,
   "metadata": {},
   "outputs": [
    {
     "data": {
      "text/plain": [
       "{'init': 'epsg:4326'}"
      ]
     },
     "execution_count": 67,
     "metadata": {},
     "output_type": "execute_result"
    }
   ],
   "source": [
    "tan.crs"
   ]
  },
  {
   "cell_type": "code",
   "execution_count": 68,
   "metadata": {},
   "outputs": [],
   "source": [
    "## From tutorial material - not used with the current data\n",
    "import requests\n",
    "import geojson\n",
    "\n",
    "wfs_url = \"http://data.nanoos.org/geoserver/ows\"\n",
    "params = dict(service='WFS', version='1.0.0', request='GetFeature',\n",
    "              typeName='oa:goaoninv', outputFormat='json')\n",
    "\n",
    "r = requests.get(wfs_url, params=params)\n",
    "wfs_geo = geojson.loads(r.content)"
   ]
  },
  {
   "cell_type": "code",
   "execution_count": 69,
   "metadata": {},
   "outputs": [
    {
     "name": "stdout",
     "output_type": "stream",
     "text": [
      "<class 'geojson.feature.FeatureCollection'>\n",
      "dict_keys(['type', 'totalFeatures', 'crs', 'features'])\n",
      "610\n"
     ]
    }
   ],
   "source": [
    "print(type(wfs_geo))\n",
    "print(wfs_geo.keys())\n",
    "print(len(wfs_geo.__geo_interface__['features']))"
   ]
  },
  {
   "cell_type": "code",
   "execution_count": 70,
   "metadata": {},
   "outputs": [],
   "source": [
    "wfs_gdf = gpd.GeoDataFrame.from_features(wfs_geo)"
   ]
  },
  {
   "cell_type": "code",
   "execution_count": 71,
   "metadata": {},
   "outputs": [
    {
     "data": {
      "image/png": "[encoded data removed]",
      "text/plain": [
       "<Figure size 720x432 with 1 Axes>"
      ]
     },
     "metadata": {
      "needs_background": "light"
     },
     "output_type": "display_data"
    }
   ],
   "source": [
    "## Plot with full survey dataset\n",
    "geo_df.plot(ax=tan.plot(cmap='tab20b', figsize=(10, 6)),\n",
    "             marker='o', markersize=15, cmap='BuGn', legend = True, legend_kwds={'loc': 'lower right'});"
   ]
  },
  {
   "cell_type": "code",
   "execution_count": 72,
   "metadata": {},
   "outputs": [
    {
     "data": {
      "image/png": "[encoded data removed]",
      "text/plain": [
       "<Figure size 720x432 with 1 Axes>"
      ]
     },
     "metadata": {
      "needs_background": "light"
     },
     "output_type": "display_data"
    }
   ],
   "source": [
    "## Plot with filtered (clustered) survey dataset\n",
    "geo_df_filtered.plot(ax=tan.plot(cmap='tab20b', figsize=(10, 6)),\n",
    "             marker='o', markersize=15, cmap='BuGn', legend = True, legend_kwds={'loc': 'lower right'});"
   ]
  },
  {
   "cell_type": "code",
   "execution_count": null,
   "metadata": {},
   "outputs": [],
   "source": []
  }
 ],
 "metadata": {
  "kernelspec": {
   "display_name": "Python [conda env:sumithra-test] *",
   "language": "python",
   "name": "conda-env-sumithra-test-py"
  },
  "language_info": {
   "codemirror_mode": {
    "name": "ipython",
    "version": 3
   },
   "file_extension": ".py",
   "mimetype": "text/x-python",
   "name": "python",
   "nbconvert_exporter": "python",
   "pygments_lexer": "ipython3",
   "version": "3.6.7"
  }
 },
 "nbformat": 4,
 "nbformat_minor": 2
}
